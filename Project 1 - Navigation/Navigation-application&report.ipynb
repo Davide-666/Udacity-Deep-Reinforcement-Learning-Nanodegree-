{
 "cells": [
  {
   "cell_type": "markdown",
   "metadata": {},
   "source": [
    "### 1. Requirements\n",
    "\n",
    "\n",
    "tensorflow==1.7.1\n",
    "\n",
    "Pillow>=4.2.1\n",
    "\n",
    "matplotlib\n",
    "\n",
    "numpy==1.13.3\n",
    "\n",
    "jupyter\n",
    "\n",
    "jupyter-console==5.2.0\n",
    "\n",
    "prompt-toolkit==1.0.18\n",
    "\n",
    "tensorflow-tensorboard==0.1.8\n",
    "\n",
    "pytest>=3.2.2\n",
    "\n",
    "docopt\n",
    "\n",
    "pyyaml\n",
    "\n",
    "protobuf==3.5.2\n",
    "\n",
    "grpcio==1.11.0\n",
    "\n",
    "torch==0.4.0\n",
    "\n",
    "pandas\n",
    "\n",
    "scipy\n",
    "\n",
    "ipykernel\n",
    "\n"
   ]
  },
  {
   "cell_type": "code",
   "execution_count": 1,
   "metadata": {},
   "outputs": [],
   "source": [
    "!pip -q install ./python"
   ]
  },
  {
   "cell_type": "code",
   "execution_count": 2,
   "metadata": {},
   "outputs": [],
   "source": [
    "import numpy as np\n",
    "import random\n",
    "\n",
    "import torch\n",
    "from collections import deque\n",
    "from unityagents import UnityEnvironment\n",
    "\n",
    "from agent import Agent\n",
    "from model import QNetwork\n",
    "\n",
    "import matplotlib.pyplot as plt\n",
    "%matplotlib inline"
   ]
  },
  {
   "cell_type": "markdown",
   "metadata": {},
   "source": [
    "### 2. Start the Environment"
   ]
  },
  {
   "cell_type": "code",
   "execution_count": 3,
   "metadata": {},
   "outputs": [
    {
     "name": "stderr",
     "output_type": "stream",
     "text": [
      "INFO:unityagents:\n",
      "'Academy' started successfully!\n",
      "Unity Academy name: Academy\n",
      "        Number of Brains: 1\n",
      "        Number of External Brains : 1\n",
      "        Lesson number : 0\n",
      "        Reset Parameters :\n",
      "\t\t\n",
      "Unity brain name: BananaBrain\n",
      "        Number of Visual Observations (per agent): 0\n",
      "        Vector Observation space type: continuous\n",
      "        Vector Observation space size (per agent): 37\n",
      "        Number of stacked Vector Observation: 1\n",
      "        Vector Action space type: discrete\n",
      "        Vector Action space size (per agent): 4\n",
      "        Vector Action descriptions: , , , \n"
     ]
    }
   ],
   "source": [
    "# Start the environment already saved in the workspace\n",
    "# Environments contain brains which are responsible for deciding the actions of their associated agents. \n",
    "env = UnityEnvironment(file_name=\"/data/Banana_Linux_NoVis/Banana.x86_64\")"
   ]
  },
  {
   "cell_type": "code",
   "execution_count": 4,
   "metadata": {},
   "outputs": [],
   "source": [
    "# Check for the first brain available, and set it as the default brain we will be controlling from Python.\n",
    "brain_name = env.brain_names[0]\n",
    "brain = env.brains[brain_name]"
   ]
  },
  {
   "cell_type": "markdown",
   "metadata": {},
   "source": [
    "### 2. Examine the State and Action Spaces\n",
    "\n",
    "Run the code cell below to print some information about the environment."
   ]
  },
  {
   "cell_type": "code",
   "execution_count": 5,
   "metadata": {},
   "outputs": [
    {
     "name": "stdout",
     "output_type": "stream",
     "text": [
      "Number of agents: 1\n",
      "Number of actions: 4\n",
      "States look like: [ 1.          0.          0.          0.          0.84408134  0.          0.\n",
      "  1.          0.          0.0748472   0.          1.          0.          0.\n",
      "  0.25755     1.          0.          0.          0.          0.74177343\n",
      "  0.          1.          0.          0.          0.25854847  0.          0.\n",
      "  1.          0.          0.09355672  0.          1.          0.          0.\n",
      "  0.31969345  0.          0.        ]\n",
      "States have length: 37\n"
     ]
    }
   ],
   "source": [
    "# Print out some information about the environment.\n",
    "\n",
    "# reset the environment\n",
    "env_info = env.reset(train_mode=False)[brain_name]\n",
    "\n",
    "# number of agents in the environment\n",
    "print('Number of agents:', len(env_info.agents))\n",
    "\n",
    "# number of actions\n",
    "action_size = brain.vector_action_space_size\n",
    "print('Number of actions:', action_size)\n",
    "\n",
    "# examine the state space \n",
    "state = env_info.vector_observations[0]\n",
    "print('States look like:', state)\n",
    "state_size = len(state)\n",
    "print('States have length:', state_size)"
   ]
  },
  {
   "cell_type": "markdown",
   "metadata": {},
   "source": [
    "### 3. Train the agent"
   ]
  },
  {
   "cell_type": "code",
   "execution_count": 6,
   "metadata": {},
   "outputs": [],
   "source": [
    "def navigate_train(n_episode=2000, max_t = 1000, eps_start = 1.0, eps_end = 0.01, eps_decay = 0.999, train = True, ckpth = 'checkpoint_navigation.pth'):\n",
    "\n",
    "#def navigate_train(agent, n_episode=1500, max_t = 1000, eps_start = 1.0, eps_end = 0.01, eps_decay = 0.999, train = True, ckpth = 'checkpoint_navigation.pth'):\n",
    "    scores = []\n",
    "    moving_avgs =[]\n",
    "    scores_window = deque(maxlen = 100)\n",
    "    eps = eps_start\n",
    "    for i_episode in range(1, n_episode+1):\n",
    "        env_info = env.reset(train_mode=train)[brain_name]\n",
    "        state = env_info.vector_observations[0]\n",
    "        score = 0\n",
    "        for t in range(max_t):\n",
    "            action = agent.act(state, eps if train else 0.0) # select an action\n",
    "            env_info = env.step(action)[brain_name]          # send the action to the environment\n",
    "            next_state = env_info.vector_observations[0]     # get the next state\n",
    "            reward = env_info.rewards[0]                     # get the reward\n",
    "            done = env_info.local_done[0]                    # see if episode has finished\n",
    "            if train:                                        # if ...\n",
    "                agent.step(state, action, reward, next_state, done)\n",
    "            score += reward                                  # update the score\n",
    "            state = next_state                               # roll over the state to next time step\n",
    "            if done:                                          # exit loop if episode finished\n",
    "                break\n",
    "        scores.append(score)\n",
    "        scores_window.append(score)\n",
    "        moving_avg = np.mean(scores_window)\n",
    "        moving_avgs.append(moving_avg)\n",
    "        eps = max(eps_end, eps * eps_decay)\n",
    "        if i_episode % 100 == 0:\n",
    "            print('\\rEpisode {:d}\\tAverage score: {:2f}'.format(i_episode, moving_avg))\n",
    "        # 2 point of margin vs target\n",
    "        if moving_avg >= 15.0:\n",
    "            print('\\nEnvironment solved in {:d} episodes!\\tAverage Score: {:f}'.format(i_episode-100, moving_avg))\n",
    "            if train:\n",
    "                torch.save(agent.qnetwork_local.state_dict(), ckpth)\n",
    "            break\n",
    "        if i_episode % 1000 == 0:\n",
    "            torch.save(agent.qnetwork_local.s+tate_dict(), ckpth)\n",
    "    \n",
    "    return scores, moving_avgs"
   ]
  },
  {
   "cell_type": "code",
   "execution_count": 7,
   "metadata": {},
   "outputs": [
    {
     "name": "stdout",
     "output_type": "stream",
     "text": [
      "Episode 100\tAverage score: 3.580000\n",
      "Episode 200\tAverage score: 8.510000\n",
      "Episode 300\tAverage score: 11.780000\n",
      "Episode 400\tAverage score: 13.480000\n",
      "Episode 500\tAverage score: 15.000000\n",
      "\n",
      "Environment solved in 400 episodes!\tAverage Score: 15.000000\n"
     ]
    },
    {
     "data": {
      "image/png": "[encoded data removed]",
      "text/plain": [
       "<matplotlib.figure.Figure at 0x7f77bd3da518>"
      ]
     },
     "metadata": {
      "needs_background": "light"
     },
     "output_type": "display_data"
    }
   ],
   "source": [
    "# train and save agent weights\n",
    "agent = Agent(state_size=state_size, action_size=action_size, seed=0)\n",
    "scores, avgs = navigate_train(n_episode=2000, eps_decay=0.98, eps_end=0.02, ckpth='checkpoint_navigation.pth')\n",
    "fig = plt.figure()\n",
    "ax = fig.add_subplot(111)\n",
    "plt.plot(np.arange(len(scores)), scores, label='DQN')\n",
    "plt.plot(np.arange(len(scores)), avgs, c='r', label='average')\n",
    "plt.ylabel('Score')\n",
    "plt.xlabel('Episode #')\n",
    "plt.legend(loc='upper left')\n",
    "plt.show()"
   ]
  },
  {
   "cell_type": "markdown",
   "metadata": {},
   "source": [
    "### 4. Test the agent"
   ]
  },
  {
   "cell_type": "code",
   "execution_count": 8,
   "metadata": {},
   "outputs": [
    {
     "name": "stdout",
     "output_type": "stream",
     "text": [
      "Episode 1\tAverage Score: 12.000000\n",
      "Episode 2\tAverage Score: 14.500000\n",
      "Episode 3\tAverage Score: 16.666667\n",
      "Episode 4\tAverage Score: 16.250000\n",
      "Episode 5\tAverage Score: 15.600000\n"
     ]
    },
    {
     "data": {
      "image/png": "[encoded data removed]",
      "text/plain": [
       "<matplotlib.figure.Figure at 0x7f77bd3da2b0>"
      ]
     },
     "metadata": {
      "needs_background": "light"
     },
     "output_type": "display_data"
    }
   ],
   "source": [
    "# test the saved agent\n",
    "agent = Agent(state_size=state_size, action_size=action_size, seed=0)\n",
    "ckpth = 'checkpoint_navigation.pth'\n",
    "agent.qnetwork_local.load_state_dict(torch.load(ckpth))\n",
    "n_episodes = 5\n",
    "scores = []\n",
    "for i_episode in range(1, n_episodes + 1):\n",
    "    env_info = env.reset(train_mode=False)[brain_name]\n",
    "    state = env_info.vector_observations[0]\n",
    "    score = 0\n",
    "    while True:\n",
    "        action = agent.act(state, eps = 0.0)           # select an action\n",
    "        env_info = env.step(action)[brain_name]        # send the action to the environment\n",
    "        next_state = env_info.vector_observations[0]   # get the next state\n",
    "        reward = env_info.rewards[0]                   # get the reward\n",
    "        done = env_info.local_done[0]                  # see if episode has finished\n",
    "        score += reward                                # update the score\n",
    "        state = next_state                             # roll over the state to next time step\n",
    "        if done:                                       # exit loop if episode finished\n",
    "            scores.append(score)\n",
    "            print('\\rEpisode {}\\tAverage Score: {:f}'.format(i_episode, np.mean(scores)))\n",
    "            break\n",
    "fig = plt.figure()\n",
    "ax = fig.add_subplot(111)\n",
    "plt.plot(np.arange(len(scores)), scores)\n",
    "plt.ylabel('Score')\n",
    "plt.xlabel('Episode #')\n",
    "plt.legend(loc='upper left')\n",
    "plt.show()    "
   ]
  },
  {
   "cell_type": "markdown",
   "metadata": {},
   "source": [
    "### 5. Close the environment"
   ]
  },
  {
   "cell_type": "code",
   "execution_count": 9,
   "metadata": {},
   "outputs": [],
   "source": [
    "env.close()"
   ]
  },
  {
   "cell_type": "markdown",
   "metadata": {},
   "source": [
    "### 6. Future works"
   ]
  },
  {
   "cell_type": "markdown",
   "metadata": {},
   "source": [
    "Try Dueling Networks, Reply Buffer and Noisy DQN"
   ]
  }
 ],
 "metadata": {
  "kernelspec": {
   "display_name": "Python 3",
   "language": "python",
   "name": "python3"
  },
  "language_info": {
   "codemirror_mode": {
    "name": "ipython",
    "version": 3
   },
   "file_extension": ".py",
   "mimetype": "text/x-python",
   "name": "python",
   "nbconvert_exporter": "python",
   "pygments_lexer": "ipython3",
   "version": "3.6.3"
  }
 },
 "nbformat": 4,
 "nbformat_minor": 2
}
